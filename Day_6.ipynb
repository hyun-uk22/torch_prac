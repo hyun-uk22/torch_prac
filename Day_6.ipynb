{
 "cells": [
  {
   "cell_type": "code",
   "execution_count": null,
   "id": "4b8276af",
   "metadata": {},
   "outputs": [
    {
     "name": "stdout",
     "output_type": "stream",
     "text": [
      "Input shape: torch.Size([3, 2])\n",
      "\n",
      "Output:\n",
      "tensor([[2.2368, 1.2292, 0.4714, 0.3864, 0.1309, 0.9838],\n",
      "        [4.4919, 2.1970, 0.4469, 0.5285, 0.3401, 2.4777],\n",
      "        [6.7469, 3.1648, 0.4224, 0.6705, 0.5493, 3.9716]],\n",
      "       grad_fn=<AddmmBackward0>)\n",
      "\n",
      "Output shape: torch.Size([3, 6])\n"
     ]
    }
   ],
   "source": [
    "import torch\n",
    "tensor_A = torch.tensor([[1,2], [3,4], [5,6]], dtype=torch.float32)\n",
    "#tensor_B = torch.tensor([[7,10],[8,11],[9,12]], dtype=torch.float32)\n",
    "\n",
    "torch.manual_seed(42)\n",
    "linear = torch.nn.Linear(in_features=2, out_features=6)\n",
    "x = tensor_A\n",
    "output = linear(x)\n",
    "print(f\"Input shape: {x.shape}\\n\")\n",
    "print(f\"Output:\\n{output}\\n\\nOutput shape: {output.shape}\")"
   ]
  },
  {
   "cell_type": "code",
   "execution_count": 21,
   "id": "1e0dde88",
   "metadata": {},
   "outputs": [
    {
     "name": "stdout",
     "output_type": "stream",
     "text": [
      "tensor([ 0, 10, 20, 30, 40, 50, 60, 70, 80, 90])\n",
      "torch.int64\n",
      "Minimum: 0\n",
      "Maximum: 90\n",
      "Mean: 45.0\n",
      "Sum: 450\n",
      "\n",
      "tensor(90)\n",
      "tensor(0)\n",
      "tensor(45.)\n",
      "tensor(450)\n"
     ]
    }
   ],
   "source": [
    "x = torch.arange(0,100,10)\n",
    "print(x)\n",
    "print(x.dtype)\n",
    "\n",
    "print(f\"Minimum: {x.min()}\")\n",
    "print(f\"Maximum: {x.max()}\")\n",
    "print(f\"Mean: {x.type(torch.float32).mean()}\") # float datatype이 아니면 작동하지 않음  # x.mean() <- error\n",
    "print(f\"Sum: {x.sum()}\\n\")\n",
    "\n",
    "print(torch.max(x))\n",
    "print(torch.min(x))\n",
    "print(torch.mean(x.type(torch.float32)))\n",
    "print(torch.sum(x))"
   ]
  },
  {
   "cell_type": "code",
   "execution_count": 23,
   "id": "80616840",
   "metadata": {},
   "outputs": [
    {
     "name": "stdout",
     "output_type": "stream",
     "text": [
      "Tensor: tensor([10, 20, 30, 40, 50, 60, 70, 80, 90])\n",
      "Index where max value occurs: 8\n",
      "Index where min value occurs: 0\n"
     ]
    }
   ],
   "source": [
    "# torch.argmax(), torch.argmin() <- 각각 최대값, 최소값의 인덱스를 반환  (softmax activation function(활성화함수)을 사용할 때 유용함)\n",
    "tensor = torch.arange(10,100,10)\n",
    "print(f\"Tensor: {tensor}\")\n",
    "print(f\"Index where max value occurs: {tensor.argmax()}\")\n",
    "print(f\"Index where min value occurs: {tensor.argmin()}\")"
   ]
  },
  {
   "cell_type": "code",
   "execution_count": 26,
   "id": "fb107ddb",
   "metadata": {},
   "outputs": [
    {
     "name": "stdout",
     "output_type": "stream",
     "text": [
      "torch.float32\n",
      "tensor([10., 20., 30., 40., 50., 60., 70., 80., 90.], dtype=torch.float16)\n",
      "tensor([10, 20, 30, 40, 50, 60, 70, 80, 90], dtype=torch.int8)\n"
     ]
    }
   ],
   "source": [
    "# torch.Tensor.type(dtype=None)을 사용하면 텐서의 자료형 변경 가능, dtype 매개변수는 사용자가 원하는 자료형을 지정\n",
    "# 텐서를 생성했을 때 기본 데이터타입은 torch.float32\n",
    "tensor = torch.arange(10.,100.,10.)\n",
    "print(tensor.dtype)\n",
    "\n",
    "tensor_float16 = tensor.type(torch.float16)\n",
    "print(tensor_float16)\n",
    "\n",
    "tensor_int8 = tensor_float16.type(torch.int8)\n",
    "print(tensor_int8)"
   ]
  },
  {
   "cell_type": "code",
   "execution_count": null,
   "id": "61dbee7e",
   "metadata": {},
   "outputs": [
    {
     "name": "stdout",
     "output_type": "stream",
     "text": [
      "torch.Size([3])\n",
      "tensor([1, 2, 3]) \n",
      "\n",
      "torch.Size([1, 3])\n",
      "tensor([[1, 2, 3]]) \n",
      "\n",
      "torch.Size([1, 1, 3])\n",
      "tensor([[[1, 2, 3]]])\n"
     ]
    }
   ],
   "source": [
    "# 실제 값을 바꾸지 않으면서 텐서들의 차원을 바꾸고자 할 때 (change or reshape)\n",
    "# reshaping, stacking, squeezing and unsqueezing\n",
    "# torch.reshape(input, shape)  #input을 원하는 형태(shape)으로 재배열\n",
    "# Tensor.view(shape)  # 기존 텐서의 데이터를 유지하면서 다른 모양의 뷰를 반환   # 다른 모양의 뷰 : 기존 텐서의 메모리를 그대로 사용하면서 shape만 바꾼 텐서\n",
    "# torch.stack(tensors, dim=0)  # 같은 크기의 텐서들을 새로운 차원으로 쌓음\n",
    "# torch.squeeze(input)  # 텐서의 모든 크기 1인 차원을 제거\n",
    "# torch.unsqueeze(input, dim)  # 지정한 위치 dim에 크기 1인 새로운 차원을 추가\n",
    "# torch.permute(input, dims)  # 텐서의 차원 순서를 바꿈(재배열)\n",
    "\n",
    "# torch.unsqueeze()\n",
    "x = torch.tensor([1, 2, 3])  # shape: (3,)\n",
    "print(x.shape)\n",
    "print(x,\"\\n\")\n",
    "\n",
    "unsqueezed = torch.unsqueeze(x, 0)  # 0번 차원에 1 추가 → (1, 3)\n",
    "print(unsqueezed.shape) \n",
    "print(unsqueezed,\"\\n\")\n",
    "\n",
    "unsqueezed = torch.unsqueeze(unsqueezed, 1)  # 1번 차원에 1 추가 → (3, 1)\n",
    "print(unsqueezed.shape)\n",
    "print(unsqueezed)\n",
    "\n",
    "# torch.permute()\n",
    "x = torch.randn(2, 3, 4)  # shape: (2, 3, 4)\n",
    "print(x)\n",
    "print(x.shape)\n",
    "\n",
    "permuted = torch.permute(x, (1, 0, 2))  # → (3, 2, 4)\n",
    "print(permuted)\n",
    "print(permuted.shape)"
   ]
  },
  {
   "cell_type": "code",
   "execution_count": 60,
   "id": "fb7a57ba",
   "metadata": {},
   "outputs": [
    {
     "name": "stdout",
     "output_type": "stream",
     "text": [
      "tensor([1., 2., 3., 4., 5., 6., 7.])\n",
      "torch.Size([7])\n"
     ]
    }
   ],
   "source": [
    "import torch\n",
    "x = torch.arange(1.,8.)\n",
    "print(x)\n",
    "print(x.shape)\n",
    "\n"
   ]
  },
  {
   "cell_type": "code",
   "execution_count": 61,
   "id": "cea627aa",
   "metadata": {},
   "outputs": [
    {
     "name": "stdout",
     "output_type": "stream",
     "text": [
      "tensor([[1., 2., 3., 4., 5., 6., 7.]]) torch.Size([1, 7])\n"
     ]
    }
   ],
   "source": [
    "x_reshaped = x.reshape(1,7)\n",
    "print(x_reshaped, x_reshaped.shape)"
   ]
  },
  {
   "cell_type": "code",
   "execution_count": null,
   "id": "bd7085f9",
   "metadata": {},
   "outputs": [
    {
     "name": "stdout",
     "output_type": "stream",
     "text": [
      "tensor([[1., 2., 3., 4., 5., 6., 7.]]) torch.Size([1, 7])\n"
     ]
    }
   ],
   "source": [
    "z = x.view(1,7) # 다른 모양의 뷰 : 기존 텐서의 메모리를 그대로 사용하면서 shape만 바꾼 텐서\n",
    "print(z, z.shape)"
   ]
  },
  {
   "cell_type": "code",
   "execution_count": null,
   "id": "3fcdd88b",
   "metadata": {},
   "outputs": [
    {
     "name": "stdout",
     "output_type": "stream",
     "text": [
      "tensor([[5., 2., 3., 4., 5., 6., 7.]]) tensor([5., 2., 3., 4., 5., 6., 7.])\n"
     ]
    }
   ],
   "source": [
    "z[:,0]=5  # 기존 텐서의 메모리를 그대로 사용하기 때문에 z를 빠구면 x(original)도 바뀜\n",
    "print(z,x)"
   ]
  },
  {
   "cell_type": "code",
   "execution_count": null,
   "id": "fdfc0a4b",
   "metadata": {},
   "outputs": [
    {
     "name": "stdout",
     "output_type": "stream",
     "text": [
      "tensor([5., 2., 3., 4., 5., 6., 7.])\n",
      "torch.Size([7]) \n",
      "\n",
      "tensor([[5., 2., 3., 4., 5., 6., 7.],\n",
      "        [5., 2., 3., 4., 5., 6., 7.],\n",
      "        [5., 2., 3., 4., 5., 6., 7.],\n",
      "        [5., 2., 3., 4., 5., 6., 7.]])\n",
      "torch.Size([4, 7]) \n",
      "\n",
      "tensor([[5., 5., 5., 5.],\n",
      "        [2., 2., 2., 2.],\n",
      "        [3., 3., 3., 3.],\n",
      "        [4., 4., 4., 4.],\n",
      "        [5., 5., 5., 5.],\n",
      "        [6., 6., 6., 6.],\n",
      "        [7., 7., 7., 7.]])\n",
      "torch.Size([7, 4])\n"
     ]
    }
   ],
   "source": [
    "print(x)\n",
    "print(x.shape,\"\\n\")\n",
    "\n",
    "x_stacked = torch.stack([x,x,x,x], dim=0) #dim은 새로운 차원을 어느 인덱스에 넣을지\n",
    "print(x_stacked)\n",
    "print(x_stacked.shape,\"\\n\")\n",
    "\n",
    "x_stacked = torch.stack([x,x,x,x], dim=1)\n",
    "print(x_stacked)\n",
    "print(x_stacked.shape)\n"
   ]
  },
  {
   "cell_type": "code",
   "execution_count": 81,
   "id": "89e6dff5",
   "metadata": {},
   "outputs": [
    {
     "name": "stdout",
     "output_type": "stream",
     "text": [
      "Previous tensor: tensor([[5., 2., 3., 4., 5., 6., 7.]])\n",
      "Previous shape: torch.Size([1, 7])\n",
      "\n",
      "New tensor: tensor([5., 2., 3., 4., 5., 6., 7.])\n",
      "New shape: torch.Size([7])\n"
     ]
    }
   ],
   "source": [
    "print(f\"Previous tensor: {x_reshaped}\")\n",
    "print(f\"Previous shape: {x_reshaped.shape}\")\n",
    "\n",
    "# x_reshaped에서 추가 차원(extra demension) 제거\n",
    "x_squeezed = x_reshaped.squeeze()\n",
    "print(f\"\\nNew tensor: {x_squeezed}\")\n",
    "print(f\"New shape: {x_squeezed.shape}\")"
   ]
  },
  {
   "cell_type": "code",
   "execution_count": 82,
   "id": "308f885f",
   "metadata": {},
   "outputs": [
    {
     "name": "stdout",
     "output_type": "stream",
     "text": [
      "Previous tensor: tensor([5., 2., 3., 4., 5., 6., 7.])\n",
      "Previous shape: torch.Size([7])\n",
      "\n",
      "New tensor: tensor([[5., 2., 3., 4., 5., 6., 7.]])\n",
      "New shape: torch.Size([1, 7])\n"
     ]
    }
   ],
   "source": [
    "print(f\"Previous tensor: {x_squeezed}\")\n",
    "print(f\"Previous shape: {x_squeezed.shape}\")\n",
    "\n",
    "# 추가 차원(extra dimension) 추가\n",
    "x_unsqueezed = x_squeezed.unsqueeze(dim=0)\n",
    "print(f\"\\nNew tensor: {x_unsqueezed}\")\n",
    "print(f\"New shape: {x_unsqueezed.shape}\")"
   ]
  },
  {
   "cell_type": "code",
   "execution_count": 84,
   "id": "e10b8b0f",
   "metadata": {},
   "outputs": [
    {
     "name": "stdout",
     "output_type": "stream",
     "text": [
      "Previous shape: torch.Size([224, 224, 3])\n",
      "New shape: torch.Size([3, 224, 224])\n"
     ]
    }
   ],
   "source": [
    "# torch.permute()를 사용하면 axes(축)의 순서를 바꿀 수 있음, 이 함수는 input텐서를 새로운 축 순서를 갖는 뷰(view)로 변환\n",
    "x_original = torch.rand(size=(224,224,3))\n",
    "\n",
    "x_permuted = x_original.permute(2,0,1)\n",
    "\n",
    "print(f\"Previous shape: {x_original.shape}\")\n",
    "print(f\"New shape: {x_permuted.shape}\")"
   ]
  },
  {
   "cell_type": "code",
   "execution_count": 95,
   "id": "2b00530b",
   "metadata": {},
   "outputs": [
    {
     "name": "stdout",
     "output_type": "stream",
     "text": [
      "tensor([[[1, 2, 3],\n",
      "         [4, 5, 6],\n",
      "         [7, 8, 9]]]) torch.Size([1, 3, 3]) \n",
      "\n",
      "First square bracket:\n",
      "tensor([[1, 2, 3],\n",
      "        [4, 5, 6],\n",
      "        [7, 8, 9]])\n",
      "Second square bracket: tensor([1, 2, 3])\n",
      "Third square bracket: 1\n",
      "\n",
      "tensor([[1, 2, 3]])\n",
      "tensor([[2, 5, 8]])\n",
      "tensor([5])\n",
      "tensor([1, 2, 3])\n"
     ]
    }
   ],
   "source": [
    "# indexing (selecting data from tensors), 텐서로부터 특정 데이터만 선택하기를 원할 때\n",
    "import torch\n",
    "x= torch.arange(1,10).reshape(1,3,3)\n",
    "print(x, x.shape,\"\\n\")\n",
    "\n",
    "print(f\"First square bracket:\\n{x[0]}\")\n",
    "print(f\"Second square bracket: {x[0][0]}\")\n",
    "print(f\"Third square bracket: {x[0][0][0]}\\n\")\n",
    "\n",
    "# 콜론(:)을 사용하면 해당 차원의 모든 값을 지정할 수 있고, 그 뒤에 쉼표를 사용해서 다른 차원의 값을 추가로 지정 가능\n",
    "print(x[:,0])\n",
    "print(x[:,:,1])\n",
    "print(x[:,1,1])\n",
    "print(x[0,0,:])"
   ]
  },
  {
   "cell_type": "code",
   "execution_count": 109,
   "id": "6b31a1f0",
   "metadata": {},
   "outputs": [
    {
     "name": "stdout",
     "output_type": "stream",
     "text": [
      "[1. 2. 3. 4. 5. 6. 7.]\n",
      "tensor([1., 2., 3., 4., 5., 6., 7.], dtype=torch.float64)\n"
     ]
    }
   ],
   "source": [
    "#PyTorch tensors & Numpy\n",
    "# torch.from_numpy(ndarray) - Numpy array -> Pytorch tensor\n",
    "# torch.Tensor.numpy()- Pytorch tensor -> Numpy array\n",
    "import torch\n",
    "import numpy as np\n",
    "array = np.arange(1.0,8.0)  \n",
    "tensor = torch.from_numpy(array) \n",
    "print(array)\n",
    "print(tensor)\n",
    "# numpy arrays는 default로 데이터타입이 float64임, pytorch tensor로 바꿔도 데이터 타입이 동일하게 유지됨  \n",
    "# pytorch 계산은 default로 flaot32를 사용함\n",
    "# Numpy array -> pytorch tensor(float32) : torch.from_numpy(array).type(torch.float32)"
   ]
  },
  {
   "cell_type": "code",
   "execution_count": 112,
   "id": "0026826b",
   "metadata": {},
   "outputs": [
    {
     "name": "stdout",
     "output_type": "stream",
     "text": [
      "[2. 3. 4. 5. 6. 7. 8.]\n",
      "tensor([1., 1., 1., 1., 1., 1., 1.])\n"
     ]
    }
   ],
   "source": [
    "array = array + 1\n",
    "#tensor = tensor +1\n",
    "print(array)\n",
    "print(tensor)"
   ]
  },
  {
   "cell_type": "code",
   "execution_count": 113,
   "id": "96f48d5a",
   "metadata": {},
   "outputs": [
    {
     "name": "stdout",
     "output_type": "stream",
     "text": [
      "tensor([1., 1., 1., 1., 1., 1., 1.])\n",
      "[1. 1. 1. 1. 1. 1. 1.] float32 \n",
      "\n",
      "tensor([2., 2., 2., 2., 2., 2., 2.])\n",
      "[1. 1. 1. 1. 1. 1. 1.]\n"
     ]
    }
   ],
   "source": [
    "# Tensor to Numpy array\n",
    "tensor = torch.ones(7)\n",
    "numpy_tensor = tensor.numpy()\n",
    "print(tensor)\n",
    "print(numpy_tensor, numpy_tensor.dtype, \"\\n\")\n",
    "\n",
    "tensor = tensor+1\n",
    "print(tensor)\n",
    "print(numpy_tensor)"
   ]
  },
  {
   "cell_type": "markdown",
   "id": "dcdb059f",
   "metadata": {},
   "source": [
    "재현 가능성 Reproducibility (무작위에서 무작위성을 제거하려는 시도)\n",
    "신경망은 처음에 랜덤한 숫자들로 시작해서, 데이터의 패턴을 설명함\n",
    "처음의 랜덤 숫자들은 패턴을 잘 설명하지 못함, 그래서 모델은 텐서 연산을 통해 숫자들을 계속 조정하면서 더 나은 패턴 표현으로 발전시켜 가는 과정을 거침\n",
    "무작위성이 줄어들어야 하는 이유: 실험을 반복해서 검증할 수 있어야 하기 때문 (같은 코드를 서로 다른 사람이 각자의 컴퓨터에서 실행해도 거의 같은 결과를 얻을 수 있어야 함) "
   ]
  },
  {
   "cell_type": "code",
   "execution_count": null,
   "id": "95fba1a9",
   "metadata": {},
   "outputs": [
    {
     "name": "stdout",
     "output_type": "stream",
     "text": [
      "Tensor A:\n",
      "tensor([[0.5191, 0.5335, 0.5375, 0.7058],\n",
      "        [0.4275, 0.2761, 0.8396, 0.1563],\n",
      "        [0.1072, 0.7261, 0.3241, 0.8892]])\n",
      "\n",
      "Tensor B:\n",
      "tensor([[0.1318, 0.8375, 0.5625, 0.4138],\n",
      "        [0.8621, 0.2793, 0.5834, 0.3287],\n",
      "        [0.6773, 0.7046, 0.9207, 0.2337]])\n",
      "\n",
      "Does Tensor A equal Tensor B? (anywhere)\n",
      "tensor([[False, False, False, False],\n",
      "        [False, False, False, False],\n",
      "        [False, False, False, False]]) \n",
      "\n",
      "Tensor C:\n",
      "tensor([[0.4540, 0.1965, 0.9210, 0.3462],\n",
      "        [0.1481, 0.0858, 0.5909, 0.0659],\n",
      "        [0.7476, 0.6253, 0.9392, 0.1338]])\n",
      "\n",
      "Tensor D:\n",
      "tensor([[0.4540, 0.1965, 0.9210, 0.3462],\n",
      "        [0.1481, 0.0858, 0.5909, 0.0659],\n",
      "        [0.7476, 0.6253, 0.9392, 0.1338]])\n",
      "\n",
      "Does Tensor C equal Tensor D? (anywhere)\n",
      "tensor([[True, True, True, True],\n",
      "        [True, True, True, True],\n",
      "        [True, True, True, True]])\n"
     ]
    }
   ],
   "source": [
    "import torch\n",
    "random_tensor_A = torch.rand(3,4)\n",
    "random_tensor_B = torch.rand(3,4)\n",
    "\n",
    "print(f\"Tensor A:\\n{random_tensor_A}\\n\")\n",
    "\n",
    "print(f\"Tensor B:\\n{random_tensor_B}\\n\")\n",
    "\n",
    "print(f\"Does Tensor A equal Tensor B? (anywhere)\")\n",
    "print(random_tensor_A == random_tensor_B,\"\\n\")\n",
    "\n",
    "# 텐서A와 텐서B를 같은 값을 가진 두개의 무작위 텐서로 만들고자 할 때 사용하는 것이 torch.manual_seed(seed)\n",
    "import torch\n",
    "import random\n",
    "\n",
    "RANDOM_SEED = 43  # seed에 따라 random으로 나오는 숫자가 달라짐\n",
    "torch.manual_seed(seed=RANDOM_SEED)\n",
    "random_tensor_C = torch.rand(3,4)\n",
    "torch.random.manual_seed(seed=RANDOM_SEED)  # rand가 호출 될 때마다 seed를 초기화해주지 않으면 값이 다르게 나옴\n",
    "random_tensor_D = torch.rand(3,4) \n",
    "\n",
    "print(f\"Tensor C:\\n{random_tensor_C}\\n\")\n",
    "print(f\"Tensor D:\\n{random_tensor_D}\\n\")\n",
    "print(f\"Does Tensor C equal Tensor D? (anywhere)\")\n",
    "print(random_tensor_C == random_tensor_D)"
   ]
  },
  {
   "cell_type": "code",
   "execution_count": 135,
   "id": "914ead81",
   "metadata": {},
   "outputs": [
    {
     "name": "stdout",
     "output_type": "stream",
     "text": [
      "Wed Jun 25 18:23:28 2025       \n",
      "+-----------------------------------------------------------------------------------------+\n",
      "| NVIDIA-SMI 571.59                 Driver Version: 571.59         CUDA Version: 12.8     |\n",
      "|-----------------------------------------+------------------------+----------------------+\n",
      "| GPU  Name                  Driver-Model | Bus-Id          Disp.A | Volatile Uncorr. ECC |\n",
      "| Fan  Temp   Perf          Pwr:Usage/Cap |           Memory-Usage | GPU-Util  Compute M. |\n",
      "|                                         |                        |               MIG M. |\n",
      "|=========================================+========================+======================|\n",
      "|   0  NVIDIA RTX A4000             WDDM  |   00000000:17:00.0  On |                  Off |\n",
      "| 41%   38C    P8             13W /  140W |     998MiB /  16376MiB |      0%      Default |\n",
      "|                                         |                        |                  N/A |\n",
      "+-----------------------------------------+------------------------+----------------------+\n",
      "                                                                                         \n",
      "+-----------------------------------------------------------------------------------------+\n",
      "| Processes:                                                                              |\n",
      "|  GPU   GI   CI              PID   Type   Process name                        GPU Memory |\n",
      "|        ID   ID                                                               Usage      |\n",
      "|=========================================================================================|\n",
      "|    0   N/A  N/A            4132    C+G   ...em32\\ApplicationFrameHost.exe      N/A      |\n",
      "|    0   N/A  N/A           10704    C+G   ...indows\\System32\\ShellHost.exe      N/A      |\n",
      "|    0   N/A  N/A           12400    C+G   ...Chrome\\Application\\chrome.exe      N/A      |\n",
      "|    0   N/A  N/A           12632    C+G   C:\\Windows\\explorer.exe               N/A      |\n",
      "|    0   N/A  N/A           17304    C+G   ...y\\StartMenuExperienceHost.exe      N/A      |\n",
      "|    0   N/A  N/A           17316    C+G   ..._cw5n1h2txyewy\\SearchHost.exe      N/A      |\n",
      "|    0   N/A  N/A           17684    C+G   ...ntrolPanel\\SystemSettings.exe      N/A      |\n",
      "|    0   N/A  N/A           19692    C+G   ...t\\Edge\\Application\\msedge.exe      N/A      |\n",
      "|    0   N/A  N/A           20084    C+G   ....0.3296.83\\msedgewebview2.exe      N/A      |\n",
      "|    0   N/A  N/A           21740    C+G   ...5n1h2txyewy\\TextInputHost.exe      N/A      |\n",
      "|    0   N/A  N/A           23604    C+G   ...tware\\Current\\LogiOverlay.exe      N/A      |\n",
      "|    0   N/A  N/A           23956    C+G   ...8bbwe\\PhoneExperienceHost.exe      N/A      |\n",
      "|    0   N/A  N/A           25984    C+G   ...ms\\Microsoft VS Code\\Code.exe      N/A      |\n",
      "|    0   N/A  N/A           26524    C+G   ...xyewy\\ShellExperienceHost.exe      N/A      |\n",
      "|    0   N/A  N/A           27388    C+G   ...l\\slack\\app-4.44.63\\slack.exe      N/A      |\n",
      "|    0   N/A  N/A           28476    C+G   ...Chrome\\Application\\chrome.exe      N/A      |\n",
      "|    0   N/A  N/A           29832    C+G   ...l\\slack\\app-4.44.63\\slack.exe      N/A      |\n",
      "|    0   N/A  N/A           31852    C+G   ....0.3296.93\\msedgewebview2.exe      N/A      |\n",
      "|    0   N/A  N/A           33352    C+G   ...crosoft\\OneDrive\\OneDrive.exe      N/A      |\n",
      "|    0   N/A  N/A           38408    C+G   ...yb3d8bbwe\\WindowsTerminal.exe      N/A      |\n",
      "+-----------------------------------------------------------------------------------------+\n"
     ]
    }
   ],
   "source": [
    "# GPU에서 텐서 실행\n",
    "# Nvidia GPU에 접근 가능한지 확인 : !nvidia-smi  # !(bang)는 이 명령어를 명령어 줄(command line)에서 실행하라는 의미\n",
    "!nvidia-smi"
   ]
  },
  {
   "cell_type": "code",
   "execution_count": 136,
   "id": "1f7c0347",
   "metadata": {},
   "outputs": [
    {
     "name": "stdout",
     "output_type": "stream",
     "text": [
      "True\n"
     ]
    }
   ],
   "source": [
    "# torch.cuda.is_available()을 사용하여 Pytorch가 GPU에 접근할 수 있는지 알 수 있음\n",
    "print(torch.cuda.is_available())"
   ]
  },
  {
   "cell_type": "code",
   "execution_count": 148,
   "id": "66a80efb",
   "metadata": {},
   "outputs": [
    {
     "name": "stdout",
     "output_type": "stream",
     "text": [
      "cuda\n",
      "1\n",
      "False\n",
      "cpu\n",
      "cuda\n",
      "tensor([1, 2, 3]) cpu\n",
      "tensor([1, 2, 3], device='cuda:0')\n"
     ]
    }
   ],
   "source": [
    "# set device type\n",
    "device = \"cuda\" if torch.cuda.is_available() else \"cpu\"\n",
    "print(device)\n",
    "# PyTorch에서는 장치에 구애받지 않는 코드(device agnostic code)를 작성하는 것이 best practice임\n",
    "# 장치에 구애받지 않는 코드란 항상 존재하는 cpu에서도 실행되고, 가능한 경우 GPU에서도 실행될 수 있도록 작성하라는 의미\n",
    "# 더 빠른 computing을 원한다면 여러개의 GPU를 사용할 수 있음, PyTorch가 접근할 수 있는 GPU의 개수는 torch.cuda.device_count()를 사용하여 확인 가능\n",
    "print(torch.cuda.device_count())\n",
    "\n",
    "# apple의 M1/M2/M3 GPU에서 pytorch를 실행하려면 torch.backends.mps 모듈을 사용\n",
    "print(torch.backends.mps.is_available())\n",
    "device = \"mps\" if torch.backends.mps.is_available() else \"cpu\"\n",
    "print(device)\n",
    "\n",
    "if torch.cuda.is_available():\n",
    "    device = \"cuda\"\n",
    "elif torch.backends.mps.is_available():\n",
    "    device = \"mps\"\n",
    "else:\n",
    "    device = \"cpu\"\n",
    "print(device)\n",
    "\n",
    "# putting tensors(and models) on the GPU, to(device)\n",
    "#some_tensor.to(device) -> tensor의 copy를 반환함, 즉 같은 tensor가 CPU와 GPU에 존재함, 덮어쓰기 위해서는 재할당(reassign)해야함 -> some_tensor = some_tensor.to(device)\n",
    "tensor = torch.tensor([1,2,3])  # create tensor (default on CPU)\n",
    "print(tensor, tensor.device) # tensor not on GPU\n",
    "tensor_on_gpu = tensor.to(device) # move tensor to GPU\n",
    "print(tensor_on_gpu)  # 결과로 tensor([1, 2, 3], device='cuda:0')가 출력되는데 여기서 device='cuda:0'은 사용 가능한 첫 번째 GPU에 저장되어 있다는 의미"
   ]
  },
  {
   "cell_type": "code",
   "execution_count": 151,
   "id": "95130df8",
   "metadata": {},
   "outputs": [
    {
     "name": "stdout",
     "output_type": "stream",
     "text": [
      "[1 2 3]\n",
      "tensor([1, 2, 3], device='cuda:0')\n"
     ]
    }
   ],
   "source": [
    "# moving tensors back to the cpu (for example tensors를 numpy와 함께 활용하고자 하는 경우 / numpy는 GPU를 활용하지 않음(not leverage))\n",
    "#tensor_on_gpu.numpy() # error, GPU에 있기 때문에 numpy로 변환하지 못함\n",
    "# Tensor.cpu() # (GPU에 있는)텐서를 CPU 메모리에 복사함\n",
    "tensor_back_on_cpu = tensor_on_gpu.cpu().numpy()\n",
    "print(tensor_back_on_cpu)  \n",
    "# 위 코드는 GPU텐서의 복사본을 CPU메모리에 반환하므로, original tensor는 GPU에 남아있음\n",
    "print(tensor_on_gpu)"
   ]
  },
  {
   "cell_type": "code",
   "execution_count": 180,
   "id": "4051e9c1",
   "metadata": {},
   "outputs": [
    {
     "name": "stdout",
     "output_type": "stream",
     "text": [
      "tensor([[3.4975],\n",
      "        [2.8627],\n",
      "        [2.5178],\n",
      "        [1.8081],\n",
      "        [2.6717],\n",
      "        [2.1668],\n",
      "        [3.7304]])\n"
     ]
    }
   ],
   "source": [
    "#2. Create a random tensor with shape (7, 7).\n",
    "import torch\n",
    "a = torch.rand(size=(7,7))\n",
    "\n",
    "#3. Perform a matrix multiplication on the tensor from 2 with another random tensor with shape (1, 7) (hint: you may have to transpose the second tensor).\n",
    "b = torch.rand(size=(1,7))\n",
    "print(torch.mm(a,b.T))\n"
   ]
  },
  {
   "cell_type": "code",
   "execution_count": 181,
   "id": "b2d452b9",
   "metadata": {},
   "outputs": [
    {
     "name": "stdout",
     "output_type": "stream",
     "text": [
      "tensor([[3.4975],\n",
      "        [2.8627],\n",
      "        [2.5178],\n",
      "        [1.8081],\n",
      "        [2.6717],\n",
      "        [2.1668],\n",
      "        [3.7304]])\n"
     ]
    }
   ],
   "source": [
    "#4. Set the random seed to 0 and do 2 & 3 over again.\n",
    "torch.manual_seed(seed=0)\n",
    "print(torch.mm(a,b.T))"
   ]
  },
  {
   "cell_type": "code",
   "execution_count": 198,
   "id": "b0568ba2",
   "metadata": {},
   "outputs": [
    {
     "name": "stdout",
     "output_type": "stream",
     "text": [
      "tensor([[0.0290, 0.4019, 0.2598],\n",
      "        [0.3666, 0.0583, 0.7006]], device='cuda:0')\n",
      "tensor([[0.0518, 0.4681, 0.6738],\n",
      "        [0.3315, 0.7837, 0.5631]], device='cuda:0')\n",
      "tensor([[0.3647, 0.4709],\n",
      "        [0.5184, 0.5617]], device='cuda:0')\n",
      "tensor(0.5617, device='cuda:0')\n",
      "tensor(0.3647, device='cuda:0')\n",
      "tensor(3, device='cuda:0')\n",
      "tensor(0, device='cuda:0')\n"
     ]
    }
   ],
   "source": [
    "#5. Speaking of random seeds, we saw how to set it with torch.manual_seed() but is there a GPU equivalent? \n",
    "# (hint: you'll need to look into the documentation for torch.cuda for this one)\n",
    "#If there is, set the GPU random seed to 1234.\n",
    "torch.cuda.manual_seed(1234)\n",
    "\n",
    "# 6. Create two random tensors of shape (2, 3) and send them both to the GPU (you'll need access to a GPU for this). \n",
    "# Set torch.manual_seed(1234) when creating the tensors (this doesn't have to be the GPU random seed).\n",
    "device = \"cuda\"\n",
    "torch.manual_seed(1234)\n",
    "a=torch.rand(size=(2,3)).to(device)\n",
    "b=torch.rand(size=(2,3)).to(device)\n",
    "print(a)\n",
    "print(b)\n",
    "\n",
    "# 7. Perform a matrix multiplication on the tensors you created in 6 (again, you may have to adjust the shapes of one of the tensors).\n",
    "mm6 = torch.mm(a,b.T)\n",
    "print(mm6)\n",
    "\n",
    "# 8. Find the maximum and minimum values of the output of 7.\n",
    "print(mm6.max())\n",
    "print(mm6.min())\n",
    "\n",
    "# 9. Find the maximum and minimum index values of the output of 7.\n",
    "print(mm6.argmax())\n",
    "print(mm6.argmin())"
   ]
  },
  {
   "cell_type": "code",
   "execution_count": 199,
   "id": "e8858d65",
   "metadata": {},
   "outputs": [
    {
     "name": "stdout",
     "output_type": "stream",
     "text": [
      "tensor([[[[0.5349, 0.1988, 0.6592, 0.6569, 0.2328, 0.4251, 0.2071, 0.6297,\n",
      "           0.3653, 0.8513]]]])\n",
      "torch.Size([1, 1, 1, 10])\n",
      "tensor([0.5349, 0.1988, 0.6592, 0.6569, 0.2328, 0.4251, 0.2071, 0.6297, 0.3653,\n",
      "        0.8513])\n",
      "torch.Size([10])\n"
     ]
    }
   ],
   "source": [
    "# 10. Make a random tensor with shape (1, 1, 1, 10) and then create a new tensor with all the 1 dimensions removed to be left with a tensor of shape (10). \n",
    "# Set the seed to 7 when you create it and print out the first tensor and it's shape as well as the second tensor and it's shape.\n",
    "torch.manual_seed(seed=7)\n",
    "tensor = torch.rand(size=(1,1,1,10))\n",
    "squeezedTensor = tensor.squeeze()\n",
    "print(tensor)\n",
    "print(tensor.shape)\n",
    "print(squeezedTensor)\n",
    "print(squeezedTensor.shape)"
   ]
  },
  {
   "cell_type": "code",
   "execution_count": 202,
   "id": "4136cbaa",
   "metadata": {},
   "outputs": [
    {
     "name": "stdout",
     "output_type": "stream",
     "text": [
      "2.7.1+cu126\n"
     ]
    }
   ],
   "source": [
    "# PyTorch Workflow Fundamentals (파이토치 워크플로 기본사항)\n",
    "# 1. 데이터 준비 \n",
    "# 2. 모델 구축 : 데이터의 패턴을 학습하는 모델 제작, 손실함수와 optimizer를 선택, 학습루프 구축\n",
    "# 3. fitting the model to data(training) : model try to find patterns in the training data\n",
    "# 4. making predictions and evaluating a model(추론) : compare with testing data\n",
    "# 5. Saving and loading a model\n",
    "# 6. Putting it all together(취합하기)\n",
    "what_were_covering = {1: \"data (prepare and load)\",\n",
    "2: \"build model\",\n",
    "3: \"fitting the model to data(training)\",\n",
    "4: \"making predictions and evaluating a model(inference)\",\n",
    "5: \"saving and loading a model\",\n",
    "6: \"putting it all together\"}\n",
    "\n",
    "# torch.nn - nn은 neural network의 약자이며, 이 패키지는 PyTorch에서 신경망을 만들기 위한 기본 구성 요소들을 포함하고 있음\n",
    "import torch\n",
    "from torch import nn\n",
    "import matplotlib.pyplot as plt\n",
    "print(torch.__version__) #check PyTorch version"
   ]
  },
  {
   "cell_type": "code",
   "execution_count": null,
   "id": "9bae42b4",
   "metadata": {},
   "outputs": [
    {
     "name": "stdout",
     "output_type": "stream",
     "text": [
      "tensor([[0.0000],\n",
      "        [0.0200],\n",
      "        [0.0400],\n",
      "        [0.0600],\n",
      "        [0.0800],\n",
      "        [0.1000],\n",
      "        [0.1200],\n",
      "        [0.1400],\n",
      "        [0.1600],\n",
      "        [0.1800]])\n",
      "tensor([[0.3000],\n",
      "        [0.3140],\n",
      "        [0.3280],\n",
      "        [0.3420],\n",
      "        [0.3560],\n",
      "        [0.3700],\n",
      "        [0.3840],\n",
      "        [0.3980],\n",
      "        [0.4120],\n",
      "        [0.4260]])\n"
     ]
    }
   ],
   "source": [
    "# linear regression (선형회귀)\n",
    "# gradient descent (경사하강법)\n",
    "weight = 0.7\n",
    "bias = 0.3\n",
    "\n",
    "start = 0\n",
    "end = 1\n",
    "step = 0.02\n",
    "X = torch.arange(start, end, step).unsqueeze(dim=1)  # features\n",
    "y = weight*X +bias  # labels\n",
    "\n",
    "print(X[:10])\n",
    "print(y[:10])"
   ]
  },
  {
   "cell_type": "code",
   "execution_count": 229,
   "id": "d5161679",
   "metadata": {},
   "outputs": [
    {
     "name": "stdout",
     "output_type": "stream",
     "text": [
      "40 40 10 10\n"
     ]
    },
    {
     "data": {
      "image/png": "[encoded data removed]",
      "text/plain": [
       "<Figure size 1000x700 with 1 Axes>"
      ]
     },
     "metadata": {},
     "output_type": "display_data"
    }
   ],
   "source": [
    "# Split data into training and test sets\n",
    "# Training set\n",
    "# Testing set\n",
    "# Validation set (often but not always) (검증 데이터셋, 모델이 이 데이터에 의해 조정됨(model gets tuned on this data))\n",
    "train_split = int(0.8*len(X))\n",
    "X_train, y_train = X[:train_split], y[:train_split]\n",
    "X_test, y_test = X[train_split:], y[train_split:]\n",
    "\n",
    "print(len(X_train), len(y_train), len(X_test),len(y_test))\n",
    "\n",
    "def plot_predictions(train_data = X_train,\n",
    "train_labels = y_train,\n",
    "test_data=X_test,\n",
    "test_labels=y_test,\n",
    "predictions=None): # predictions 값을 주지 않아도 에러가 나지 않도록 하기 위함(예측 결과가 아직 없다면 predictions 인자를 생략 가능)\n",
    "    \"\"\"\n",
    "    Plots training data, test data and compares predictions.\n",
    "    \"\"\"\n",
    "    plt.figure(figsize=(10,7))\n",
    "\n",
    "#Plot training data in blue\n",
    "    plt.scatter(train_data, train_labels, c=\"b\", s=4, label = \"Training data\") # c는 컬러, s는 사이즈\n",
    "    plt.scatter(test_data, test_labels, c=\"g\", s=4, label = \"Testing data\")\n",
    "\n",
    "    if predictions is not None:\n",
    "        plt.scatter(test_data, predictions, c=\"r\", s=4, label = \"Predictions\") # 예측 값이 있으면 예측 결과를 빨간색으로 시각화\n",
    "\n",
    "    plt.legend(prop={\"size\":14})\n",
    "\n",
    "plot_predictions()"
   ]
  },
  {
   "cell_type": "code",
   "execution_count": null,
   "id": "fc2b7a11",
   "metadata": {},
   "outputs": [],
   "source": []
  }
 ],
 "metadata": {
  "kernelspec": {
   "display_name": "torch",
   "language": "python",
   "name": "python3"
  },
  "language_info": {
   "codemirror_mode": {
    "name": "ipython",
    "version": 3
   },
   "file_extension": ".py",
   "mimetype": "text/x-python",
   "name": "python",
   "nbconvert_exporter": "python",
   "pygments_lexer": "ipython3",
   "version": "3.10.18"
  }
 },
 "nbformat": 4,
 "nbformat_minor": 5
}
