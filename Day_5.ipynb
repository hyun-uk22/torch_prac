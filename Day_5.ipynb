{
 "cells": [
  {
   "cell_type": "code",
   "execution_count": 3,
   "id": "ff9d612c",
   "metadata": {},
   "outputs": [
    {
     "name": "stdout",
     "output_type": "stream",
     "text": [
      "tensor([[0., 0., 0.],\n",
      "        [0., 0., 0.],\n",
      "        [0., 0., 0.],\n",
      "        [0., 0., 0.],\n",
      "        [0., 0., 0.]])\n",
      "torch.float32\n",
      "tensor([[1, 1, 1],\n",
      "        [1, 1, 1],\n",
      "        [1, 1, 1],\n",
      "        [1, 1, 1],\n",
      "        [1, 1, 1]], dtype=torch.int16)\n"
     ]
    }
   ],
   "source": [
    "import torch\n",
    "\n",
    "z = torch.zeros(5,3)\n",
    "print(z)\n",
    "print(z.dtype)\n",
    "\n",
    "i = torch.ones((5,3), dtype = torch.int16)\n",
    "print(i)"
   ]
  },
  {
   "cell_type": "code",
   "execution_count": 4,
   "id": "d3f7bcda",
   "metadata": {},
   "outputs": [
    {
     "data": {
      "text/plain": [
       "'2.7.1+cu126'"
      ]
     },
     "execution_count": 4,
     "metadata": {},
     "output_type": "execute_result"
    }
   ],
   "source": [
    "# PyTorch 버전 확인\n",
    "import torch\n",
    "torch.__version__"
   ]
  },
  {
   "cell_type": "markdown",
   "id": "454c69f6",
   "metadata": {},
   "source": [
    "이미지 모양을 가진 텐서 [colour_channels, height, width]\n",
    " # [3,224,224] 3색상 채널(빨강,초록,파랑), 픽셀 높이 224, 픽셀 너비 224"
   ]
  },
  {
   "cell_type": "code",
   "execution_count": 12,
   "id": "78e74d08",
   "metadata": {},
   "outputs": [
    {
     "name": "stdout",
     "output_type": "stream",
     "text": [
      "tensor(7)\n",
      "0\n",
      "<class 'torch.Tensor'>\n",
      "7\n"
     ]
    }
   ],
   "source": [
    "#스칼라는 단일 숫자, 텐서로는 차원이 0인 텐서\n",
    "# Scalar\n",
    "scalar = torch.tensor(7)\n",
    "print(scalar)\n",
    "\n",
    "# 스칼라 차원 확인\n",
    "print(scalar.ndim) \n",
    "\n",
    "# torch.Tensor형에서 파이썬 정수형으로\n",
    "print(type(scalar))\n",
    "print(scalar.item())"
   ]
  },
  {
   "cell_type": "code",
   "execution_count": 16,
   "id": "21574d88",
   "metadata": {},
   "outputs": [
    {
     "name": "stdout",
     "output_type": "stream",
     "text": [
      "tensor([7, 7])\n",
      "1\n",
      "torch.Size([2])\n"
     ]
    }
   ],
   "source": [
    "# Vector\n",
    "vector = torch.tensor([7,7])\n",
    "print(vector)\n",
    "\n",
    "# 벡터의 차원수 확인\n",
    "print(vector.ndim)\n",
    "\n",
    "# 벡터의 shape 확인\n",
    "print(vector.shape)"
   ]
  },
  {
   "cell_type": "code",
   "execution_count": 24,
   "id": "b3a4aaa6",
   "metadata": {},
   "outputs": [
    {
     "name": "stdout",
     "output_type": "stream",
     "text": [
      "tensor([[ 7,  8],\n",
      "        [ 9, 10]])\n",
      "2\n",
      "torch.Size([2, 2])\n"
     ]
    }
   ],
   "source": [
    "# Matrix(행렬)\n",
    "MATRIX = torch.tensor([[7,8],[9,10]])\n",
    "print(MATRIX)\n",
    "print(MATRIX.ndim)\n",
    "print(MATRIX.shape)"
   ]
  },
  {
   "cell_type": "code",
   "execution_count": 26,
   "id": "f008cb91",
   "metadata": {},
   "outputs": [
    {
     "name": "stdout",
     "output_type": "stream",
     "text": [
      "tensor([[[1, 2, 3],\n",
      "         [3, 6, 8],\n",
      "         [2, 4, 5]]])\n",
      "3\n",
      "torch.Size([1, 3, 3])\n"
     ]
    }
   ],
   "source": [
    "# Tensor\n",
    "TENSOR = torch.tensor([[[1,2,3],[3,6,8],[2,4,5]]])\n",
    "print(TENSOR)\n",
    "print(TENSOR.ndim)\n",
    "print(TENSOR.shape)"
   ]
  },
  {
   "cell_type": "markdown",
   "id": "6a47e220",
   "metadata": {},
   "source": [
    "vector와 scalar에는 주로 소문자 사용\n",
    "MATRIX와 TENSOR에는 주로 대문자 사용\n",
    "scalar - lower(a)\n",
    "vector - lower(y)\n",
    "matrix - upper(Q)\n",
    "tensor - Upper(X)"
   ]
  },
  {
   "cell_type": "code",
   "execution_count": 35,
   "id": "846975f0",
   "metadata": {},
   "outputs": [
    {
     "name": "stdout",
     "output_type": "stream",
     "text": [
      "tensor([[0.8182, 0.8936, 0.2054, 0.0930],\n",
      "        [0.8862, 0.9924, 0.3033, 0.5939],\n",
      "        [0.6800, 0.9944, 0.1413, 0.6854]])\n",
      "torch.float32\n",
      "\n",
      "torch.Size([224, 224, 3])\n",
      "3\n"
     ]
    }
   ],
   "source": [
    "# 난수 텐서 생성  # torch.rand()\n",
    "random_tensor = torch.rand(size=(3,4))\n",
    "print(random_tensor)\n",
    "print(random_tensor.dtype)\n",
    "\n",
    "print()\n",
    "# Create a random tensor of size (224, 224, 3)\n",
    "random_image_size_tensor = torch.rand(size=(224,224,3))\n",
    "print(random_image_size_tensor.shape)\n",
    "print(random_image_size_tensor.ndim)"
   ]
  },
  {
   "cell_type": "code",
   "execution_count": 39,
   "id": "2a5ca121",
   "metadata": {},
   "outputs": [
    {
     "name": "stdout",
     "output_type": "stream",
     "text": [
      "tensor([[0., 0., 0., 0.],\n",
      "        [0., 0., 0., 0.],\n",
      "        [0., 0., 0., 0.]])\n",
      "torch.float32\n",
      "\n",
      "tensor([[1., 1., 1., 1.],\n",
      "        [1., 1., 1., 1.],\n",
      "        [1., 1., 1., 1.]])\n",
      "torch.float32\n"
     ]
    }
   ],
   "source": [
    "# 마스킹(masking), 한 텐서의 일부 값을 0으로 마스킹하여 모델이 해당 값을 학습하지 않도록 함\n",
    "\n",
    "# torch.zeros()\n",
    "zeros = torch.zeros(size=(3,4))\n",
    "print(zeros)\n",
    "print(zeros.dtype)\n",
    "\n",
    "print()\n",
    "# torch.ones\n",
    "ones = torch.ones(size=(3,4))\n",
    "print(ones)\n",
    "print(ones.dtype)"
   ]
  },
  {
   "cell_type": "code",
   "execution_count": 47,
   "id": "4931ec93",
   "metadata": {},
   "outputs": [
    {
     "name": "stdout",
     "output_type": "stream",
     "text": [
      "tensor([0, 1, 2, 3, 4, 5, 6, 7, 8, 9])\n"
     ]
    }
   ],
   "source": [
    "# torch.arrange(start, end, step)\n",
    "zero_to_ten = torch.arange(start = 0, end=10, step=1)\n",
    "print(zero_to_ten)"
   ]
  },
  {
   "cell_type": "code",
   "execution_count": 48,
   "id": "370b0f1f",
   "metadata": {},
   "outputs": [
    {
     "name": "stderr",
     "output_type": "stream",
     "text": [
      "C:\\Users\\hyun\\AppData\\Local\\Temp\\ipykernel_18648\\2061090737.py:2: UserWarning: torch.range is deprecated and will be removed in a future release because its behavior is inconsistent with Python's range builtin. Instead, use torch.arange, which produces values in [start, end).\n",
      "  zero_to_ten_deprecated = torch.range(0,10)\n"
     ]
    }
   ],
   "source": [
    "# torch.range() is deprecated(사용중단 됨)\n",
    "zero_to_ten_deprecated = torch.range(0,10)"
   ]
  },
  {
   "cell_type": "code",
   "execution_count": null,
   "id": "b1ff761e",
   "metadata": {},
   "outputs": [
    {
     "name": "stdout",
     "output_type": "stream",
     "text": [
      "torch.Size([3])\n",
      "torch.float32\n",
      "cpu\n"
     ]
    }
   ],
   "source": [
    "# 32-bit floating point(32비트 부동 소수점) : 가장 일반적인 타입 torch.float32 or torch.float\n",
    "# 특정 데이터 유형을 가진 텐서  #텐서의 기본 데이터 유형은 float32\n",
    "float_32_tensor = torch.tensor([3.0,6.0,9.0], dtype=None, device = None, requires_grad=False)\n",
    "# dtype - dtype을 지정하지 않으면 기본값은 None, 또는 전달되는 데이터 타입을 따름\n",
    "# device - device를 지정하지 않으면 기본값은 None, default tensor type을 사용함    # default tensor type : torch.tensor([1.0,2.0]) <- torch.tensor([1.0,2.0], dtype=torch.float32, device='cpu')\n",
    "# requires_grad - True로 설정하면, 텐서에 수행되는 연산들이 기록되어 자동 미분에 사용됨\n",
    "print(float_32_tensor.shape)\n",
    "print(float_32_tensor.dtype)\n",
    "print(float_32_tensor.device)"
   ]
  },
  {
   "cell_type": "markdown",
   "id": "72696659",
   "metadata": {},
   "source": [
    "모양 문제(tensor shape이 일치하지 않음)를 제외하고 PyTorch에서 가장 일반적으로 접하게 되는 문제가 데이터 유형(datatype), 장치(device) 문제\n",
    "pytorch는 (often) 텐서들이 같은 format이길 선호함\n",
    "pytorch는 텐서간의 연산에 있어서 같은 device이길 선호함\n"
   ]
  },
  {
   "cell_type": "code",
   "execution_count": 53,
   "id": "9e4145eb",
   "metadata": {},
   "outputs": [
    {
     "name": "stdout",
     "output_type": "stream",
     "text": [
      "torch.float16\n",
      "torch.float16\n"
     ]
    }
   ],
   "source": [
    "flaot_16_tensor = torch.tensor([3.0,6.0,9.0], dtype = torch.float16)  # torch.half를 써도 됨 torch.float16과 동일한 데이터 타입임\n",
    "float_half_tensor = torch.tensor([3.0,6.0,9.0], dtype = torch.half)\n",
    "print(flaot_16_tensor.dtype)\n",
    "print(float_half_tensor.dtype)"
   ]
  },
  {
   "cell_type": "code",
   "execution_count": null,
   "id": "2c41bd26",
   "metadata": {},
   "outputs": [
    {
     "name": "stdout",
     "output_type": "stream",
     "text": [
      "tensor([[0.5183, 0.0397, 0.4231, 0.1655],\n",
      "        [0.5160, 0.3875, 0.4572, 0.4432],\n",
      "        [0.6420, 0.1925, 0.9964, 0.6856]])\n",
      "Shape of tensor : torch.Size([3, 4])\n",
      "Datatype of tensor : torch.float32\n",
      "Device tensor is stored on : cpu\n"
     ]
    }
   ],
   "source": [
    "some_tensor = torch.rand(3,4)\n",
    "\n",
    "print(some_tensor)\n",
    "print(\"Shape of tensor :\", some_tensor.shape)\n",
    "print(\"Datatype of tensor :\", some_tensor.dtype)\n",
    "print(\"Device tensor is stored on :\", some_tensor.device)\n",
    "\n",
    "# pyTorch에서 issue가 발생하는 경우 위 세 가지 속성 중 하나와 연관된 경우가 많음"
   ]
  },
  {
   "cell_type": "markdown",
   "id": "bc9d8f8e",
   "metadata": {},
   "source": [
    "딥러닝에서는 데이터(이미지, 텍스트, 비디오, 오디오, 단백질 구조 등)가 tensors로 나타남\n",
    "model은 그러한 tensors들을 조사하고, 일련의 연산(operations)들을 수행하여 input data의 패턴의 표현(representation)을 학습함\n",
    "연산(oprations) : 덧셈, 뺄셈, 곱셈(요소간의), 나눗셈, 행렬 곱셈\n"
   ]
  },
  {
   "cell_type": "code",
   "execution_count": 65,
   "id": "fd1194b6",
   "metadata": {},
   "outputs": [
    {
     "name": "stdout",
     "output_type": "stream",
     "text": [
      "tensor([11, 12, 13])\n",
      "tensor([10, 20, 30])\n",
      "tensor([1, 2, 3]) \n",
      "\n",
      "tensor([-9, -8, -7])\n"
     ]
    }
   ],
   "source": [
    "tensor = torch.tensor([1,2,3])\n",
    "print(tensor + 10)\n",
    "print(tensor * 10)\n",
    "print(tensor,\"\\n\")\n",
    "\n",
    "tensor -= 10 #재할당(reassigned)\n",
    "print(tensor)"
   ]
  },
  {
   "cell_type": "code",
   "execution_count": null,
   "id": "ec0ca06a",
   "metadata": {},
   "outputs": [
    {
     "name": "stdout",
     "output_type": "stream",
     "text": [
      "tensor([10, 20, 30])\n",
      "tensor([1, 2, 3])\n",
      "tensor([10, 20, 30])\n"
     ]
    }
   ],
   "source": [
    "tensor = torch.tensor([1,2,3])\n",
    "print(torch.multiply(tensor,10))  \n",
    "print(tensor)\n",
    "print(tensor*10) # torch.mul 대신 연산자 기호(*)를 사용하는 것이 일반적\n"
   ]
  },
  {
   "cell_type": "code",
   "execution_count": null,
   "id": "461d2185",
   "metadata": {},
   "outputs": [
    {
     "name": "stdout",
     "output_type": "stream",
     "text": [
      "torch.Size([3]) \n",
      "\n",
      "tensor([1, 4, 9])\n",
      "tensor(14)\n",
      "tensor(14) \n",
      "\n",
      "tensor(14)\n"
     ]
    }
   ],
   "source": [
    "#행렬 곱셈, torch.matmul()\n",
    "#규칙1. inner demension이 일치해야함\n",
    "#규칙2. 결과 matrix는 outer dimensions의 shape을 가짐\n",
    "# 파이썬에서 @는 행렬곱을 나타내는 기호\n",
    "\n",
    "import torch\n",
    "tensor = torch.tensor([1,2,3])\n",
    "print(tensor.shape,\"\\n\")\n",
    "\n",
    "print(tensor*tensor)\n",
    "print(tensor.matmul(tensor))\n",
    "print(tensor@tensor,\"\\n\")"
   ]
  },
  {
   "cell_type": "code",
   "execution_count": 75,
   "id": "8fb18756",
   "metadata": {},
   "outputs": [
    {
     "name": "stdout",
     "output_type": "stream",
     "text": [
      "tensor(14)\n",
      "CPU times: total: 15.6 ms\n",
      "Wall time: 999 μs\n"
     ]
    }
   ],
   "source": [
    "%%time\n",
    "#Matrix multiplication by hand (추천되지 않음)\n",
    "value = 0\n",
    "for i in range(len(tensor)):\n",
    "    value += tensor[i] * tensor[i]\n",
    "print(value)"
   ]
  },
  {
   "cell_type": "code",
   "execution_count": 76,
   "id": "dc348c21",
   "metadata": {},
   "outputs": [
    {
     "name": "stdout",
     "output_type": "stream",
     "text": [
      "CPU times: total: 0 ns\n",
      "Wall time: 0 ns\n"
     ]
    },
    {
     "data": {
      "text/plain": [
       "tensor(14)"
      ]
     },
     "execution_count": 76,
     "metadata": {},
     "output_type": "execute_result"
    }
   ],
   "source": [
    "%%time\n",
    "torch.matmul(tensor,tensor)"
   ]
  },
  {
   "cell_type": "code",
   "execution_count": null,
   "id": "091b49ce",
   "metadata": {},
   "outputs": [
    {
     "ename": "RuntimeError",
     "evalue": "mat1 and mat2 shapes cannot be multiplied (3x2 and 3x2)",
     "output_type": "error",
     "traceback": [
      "\u001b[1;31m---------------------------------------------------------------------------\u001b[0m",
      "\u001b[1;31mRuntimeError\u001b[0m                              Traceback (most recent call last)",
      "Cell \u001b[1;32mIn[77], line 3\u001b[0m\n\u001b[0;32m      1\u001b[0m tensor_A \u001b[38;5;241m=\u001b[39m torch\u001b[38;5;241m.\u001b[39mtensor([[\u001b[38;5;241m1\u001b[39m,\u001b[38;5;241m2\u001b[39m],[\u001b[38;5;241m3\u001b[39m,\u001b[38;5;241m4\u001b[39m],[\u001b[38;5;241m5\u001b[39m,\u001b[38;5;241m6\u001b[39m]], dtype \u001b[38;5;241m=\u001b[39m torch\u001b[38;5;241m.\u001b[39mfloat32)\n\u001b[0;32m      2\u001b[0m tensor_B \u001b[38;5;241m=\u001b[39m torch\u001b[38;5;241m.\u001b[39mtensor([[\u001b[38;5;241m7\u001b[39m,\u001b[38;5;241m10\u001b[39m],[\u001b[38;5;241m8\u001b[39m,\u001b[38;5;241m11\u001b[39m],[\u001b[38;5;241m9\u001b[39m,\u001b[38;5;241m12\u001b[39m]], dtype \u001b[38;5;241m=\u001b[39m torch\u001b[38;5;241m.\u001b[39mfloat32)\n\u001b[1;32m----> 3\u001b[0m \u001b[43mtorch\u001b[49m\u001b[38;5;241;43m.\u001b[39;49m\u001b[43mmatmul\u001b[49m\u001b[43m(\u001b[49m\u001b[43mtensor_A\u001b[49m\u001b[43m,\u001b[49m\u001b[43mtensor_B\u001b[49m\u001b[43m)\u001b[49m\n",
      "\u001b[1;31mRuntimeError\u001b[0m: mat1 and mat2 shapes cannot be multiplied (3x2 and 3x2)"
     ]
    }
   ],
   "source": [
    "# 딥러닝에서 가장 흔하게 일어나는 에러\n",
    "tensor_A = torch.tensor([[1,2],[3,4],[5,6]], dtype = torch.float32)\n",
    "tensor_B = torch.tensor([[7,10],[8,11],[9,12]], dtype = torch.float32)\n",
    "torch.matmul(tensor_A,tensor_B)"
   ]
  },
  {
   "cell_type": "code",
   "execution_count": 87,
   "id": "e43aafae",
   "metadata": {},
   "outputs": [
    {
     "name": "stdout",
     "output_type": "stream",
     "text": [
      "tensor([[1., 2.],\n",
      "        [3., 4.],\n",
      "        [5., 6.]])\n",
      "tensor([[ 7.,  8.,  9.],\n",
      "        [10., 11., 12.]])\n",
      "torch.Size([3, 2]) torch.Size([2, 3])\n",
      "tensor([[ 27.,  30.,  33.],\n",
      "        [ 61.,  68.,  75.],\n",
      "        [ 95., 106., 117.]])\n",
      "torch.Size([3, 3])\n",
      "tensor([[ 27.,  30.,  33.],\n",
      "        [ 61.,  68.,  75.],\n",
      "        [ 95., 106., 117.]])\n"
     ]
    }
   ],
   "source": [
    "#위 텐서들을 transpose(전치)를 통해서 행렬곱을 되게 할 수 있음\n",
    "#torch.transpose(input, dim0, dim1)\n",
    "#tensor.T\n",
    "print(tensor_A)\n",
    "print(tensor_B.T)\n",
    "\n",
    "print(tensor_A.shape, tensor_B.T.shape)\n",
    "output = torch.matmul(tensor_A,tensor_B.T)\n",
    "print(output)\n",
    "print(output.shape)\n",
    "\n",
    "# torch.mm - matmul의 약자\n",
    "print(torch.mm(tensor_A,tensor_B.T))"
   ]
  },
  {
   "cell_type": "code",
   "execution_count": 96,
   "id": "cd23ea44",
   "metadata": {},
   "outputs": [
    {
     "name": "stdout",
     "output_type": "stream",
     "text": [
      "Input shape: torch.Size([3, 2])\n",
      "\n",
      "Output:\n",
      "tensor([[2.2368, 1.2292, 0.4714, 0.3864, 0.1309, 0.9838],\n",
      "        [4.4919, 2.1970, 0.4469, 0.5285, 0.3401, 2.4777],\n",
      "        [6.7469, 3.1648, 0.4224, 0.6705, 0.5493, 3.9716]],\n",
      "       grad_fn=<AddmmBackward0>)\n",
      "\n",
      "Ouput Shape: torch.Size([3, 6])\n"
     ]
    }
   ],
   "source": [
    "# 행렬 곱셈은 두 행렬간의 내적(dot product)라고도 함\n",
    "# 신경망은 행렬곱과 내적으로 구성됨(are full of)\n",
    "# torch.nn.Linear()모듈은 feed-foward layer 또는 fully connected layer로 알려져 있으며, 입력(input) x와 가중치 행렬(weight matrix) A간의 행렬곱을 구현함\n",
    "## x는 layer에 대한 input, A는 layer에 의해 생성된(created) weight matrix <- 이 행렬은 처음에는 무작위 숫자로 시작하지만, 신경망이 데이터 속 패턴을 더 잘 표현하도록 학습하면서 점점 조정됨\n",
    "## b는 입력과 가중치에 약간의 변화를 주기 위해 사용된는 편향(bias)\n",
    "\n",
    "# 위와 같은 것들이 선형 함수(linear function)\n",
    "torch.manual_seed(42) #linear layer는 랜덤 가중치 행렬로 시작하므로, 결과가 매번 같도록 재현 가능(reproducible)하게 설정/난수 생성기의 시드를 42로 고정하여, 무작위 값들이 항상 동일하게 생성되도록 함\n",
    "\n",
    "linear = torch.nn.Linear(in_features=2, out_features=6)\n",
    "x= tensor_A\n",
    "output = linear(x)\n",
    "print(f\"Input shape: {x.shape}\\n\")\n",
    "print(f\"Output:\\n{output}\\n\\nOuput Shape: {output.shape}\")"
   ]
  },
  {
   "cell_type": "code",
   "execution_count": null,
   "id": "90eb911e",
   "metadata": {},
   "outputs": [],
   "source": []
  }
 ],
 "metadata": {
  "kernelspec": {
   "display_name": "torch",
   "language": "python",
   "name": "python3"
  },
  "language_info": {
   "codemirror_mode": {
    "name": "ipython",
    "version": 3
   },
   "file_extension": ".py",
   "mimetype": "text/x-python",
   "name": "python",
   "nbconvert_exporter": "python",
   "pygments_lexer": "ipython3",
   "version": "3.10.18"
  }
 },
 "nbformat": 4,
 "nbformat_minor": 5
}
